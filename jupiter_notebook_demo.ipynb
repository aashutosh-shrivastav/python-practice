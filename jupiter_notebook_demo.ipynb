{
 "cells": [
  {
   "cell_type": "code",
   "execution_count": 5,
   "metadata": {},
   "outputs": [
    {
     "name": "stdout",
     "output_type": "stream",
     "text": [
      "Variable   Type      Data/Info\n",
      "------------------------------\n",
      "os         module    <module 'os' from 'c:\\\\Us<...>\\\\Python310\\\\lib\\\\os.py'>\n",
      "sys        module    <module 'sys' (built-in)>\n",
      "x          int       1\n"
     ]
    }
   ],
   "source": [
    "x =1\n",
    "%whos"
   ]
  },
  {
   "cell_type": "code",
   "execution_count": 12,
   "metadata": {},
   "outputs": [
    {
     "name": "stdout",
     "output_type": "stream",
     "text": [
      "<class 'int'>\n",
      "1\n",
      "<class 'int'>\n",
      "16\n"
     ]
    }
   ],
   "source": [
    "x= pow(9,2,4)\n",
    "print(type(x))\n",
    "print(x)\n",
    "\n",
    "x= 2**4\n",
    "print(type(x))\n",
    "print(x)"
   ]
  },
  {
   "cell_type": "code",
   "execution_count": 9,
   "metadata": {},
   "outputs": [
    {
     "name": "stdout",
     "output_type": "stream",
     "text": [
      "<class 'int'>\n",
      "5\n"
     ]
    }
   ],
   "source": [
    "x= round(5.49)\n",
    "print(type(x))\n",
    "print(x)"
   ]
  },
  {
   "cell_type": "code",
   "execution_count": 11,
   "metadata": {},
   "outputs": [
    {
     "name": "stdout",
     "output_type": "stream",
     "text": [
      "<class 'tuple'>\n",
      "(4, 1)\n",
      "4\n",
      "1\n"
     ]
    }
   ],
   "source": [
    "x= divmod(9,2)\n",
    "print(type(x))\n",
    "print(x)\n",
    "print(x[0])\n",
    "print(x[1])"
   ]
  },
  {
   "cell_type": "code",
   "execution_count": 16,
   "metadata": {},
   "outputs": [
    {
     "name": "stdout",
     "output_type": "stream",
     "text": [
      "34 < 54\n"
     ]
    }
   ],
   "source": [
    "a= int(input(\"a:\"));\n",
    "b= int(input(\"b:\"));\n",
    "if(a==b):\n",
    "    print(a,\"=\",b)\n",
    "elif(a>b):\n",
    "    print(a,\">\",b)\n",
    "else :\n",
    "    print(a,\"<\",b)"
   ]
  },
  {
   "cell_type": "markdown",
   "metadata": {},
   "source": [
    "#Control Flow Loops\n",
    "\n",
    "NOTE: Indentation are important!"
   ]
  },
  {
   "cell_type": "code",
   "execution_count": 18,
   "metadata": {},
   "outputs": [
    {
     "name": "stdout",
     "output_type": "stream",
     "text": [
      "1\n",
      "This is iteration no 1\n",
      "4\n",
      "This is iteration no 2\n",
      "9\n",
      "This is iteration no 3\n",
      "16\n",
      "This is iteration no 4\n",
      "End of iteration\n"
     ]
    }
   ],
   "source": [
    "n= int(input(\"No. of iterations : \"))\n",
    "i = 0;\n",
    "while i < n :\n",
    "    print(pow(i+1,2))\n",
    "    print(\"This is iteration no\",i+1)\n",
    "    i=i+1\n",
    "print(\"End of iteration\")"
   ]
  },
  {
   "cell_type": "markdown",
   "metadata": {},
   "source": [
    "Learned break, continue and pass."
   ]
  },
  {
   "cell_type": "code",
   "execution_count": 21,
   "metadata": {},
   "outputs": [
    {
     "name": "stdout",
     "output_type": "stream",
     "text": [
      "odd :  1\n",
      "even :  2\n",
      "odd :  3\n",
      "even :  4\n",
      "odd :  5\n",
      "even :  6\n",
      "odd :  7\n",
      "even :  8\n",
      "even :  10\n",
      "odd :  11\n",
      "even :  12\n",
      "odd :  13\n",
      "even :  14\n",
      "odd :  15\n",
      "even :  16\n",
      "end\n"
     ]
    }
   ],
   "source": [
    "n = int(input())\n",
    "i=1;\n",
    "\n",
    "while True:\n",
    "    if i%17 == 0:\n",
    "        break\n",
    "    if i%9 ==0:\n",
    "        i+=1\n",
    "        continue\n",
    "    elif i%2 == 0:\n",
    "        print(\"even : \",i)\n",
    "    else:\n",
    "        print(\"odd : \",i)\n",
    "    i+=1\n",
    "print(\"end\")\n"
   ]
  },
  {
   "cell_type": "code",
   "execution_count": 27,
   "metadata": {},
   "outputs": [
    {
     "name": "stdout",
     "output_type": "stream",
     "text": [
      "[1, 8, 27, 64, 125, 216, 343, 512, 729]\n",
      "1\n",
      "4\n",
      "7\n",
      "10\n",
      "13\n",
      "16\n",
      "19\n",
      "[1, 16, 49, 100, 169, 256, 361]\n"
     ]
    }
   ],
   "source": [
    "l = []\n",
    "\n",
    "for i in range(1,10,1):\n",
    "    l.append(i**3)\n",
    "print(l)\n",
    "l.clear()\n",
    "for i in range(1,20,3):\n",
    "    print(i)\n",
    "    l.append(i**2)\n",
    "print(l)"
   ]
  },
  {
   "cell_type": "markdown",
   "metadata": {},
   "source": [
    "Control flow : For else "
   ]
  },
  {
   "cell_type": "code",
   "execution_count": 38,
   "metadata": {},
   "outputs": [
    {
     "name": "stdout",
     "output_type": "stream",
     "text": [
      "Outside, the loop not completed\n",
      "am\n",
      "inside the loop\n",
      "Set\n",
      "inside the loop\n",
      "4.9\n",
      "inside the loop\n",
      "two\n",
      "inside the loop\n",
      "I\n",
      "inside the loop\n",
      "the loop copleted\n",
      "Outside the loop copleted\n"
     ]
    }
   ],
   "source": [
    "S = {\"I\",\"am\",\"Set\",4.9,\"two\"}\n",
    "i=1\n",
    "for x in S:\n",
    "    if(i==5):\n",
    "        break\n",
    "    else:\n",
    "        i+=1\n",
    "        pass\n",
    "else:\n",
    "    i==0\n",
    "    print(\"the loop copleted\")\n",
    "if i!=0:\n",
    "    print(\"Outside, the loop not completed\")\n",
    "\n",
    "S = {\"I\",\"am\",\"Set\",4.9,\"two\"}\n",
    "i=1\n",
    "for x in S:\n",
    "    print(x)\n",
    "    if(i==6):\n",
    "        break\n",
    "    else:\n",
    "        i+=1\n",
    "        print(\"inside the loop\")\n",
    "        pass\n",
    "else:\n",
    "    print(\"the loop copleted\")\n",
    "print(\"Outside the loop copleted\")\n",
    "\n",
    "\n"
   ]
  },
  {
   "cell_type": "markdown",
   "metadata": {},
   "source": [
    "#Dictionary Data structure"
   ]
  },
  {
   "cell_type": "code",
   "execution_count": 40,
   "metadata": {},
   "outputs": [
    {
     "name": "stdout",
     "output_type": "stream",
     "text": [
      "key1 val1\n",
      "key2 val2\n",
      "<class 'dict'>\n"
     ]
    }
   ],
   "source": [
    "D = {\"key1\":\"val1\",\"key2\":\"val2\"}\n",
    "for key in D:\n",
    "    print(key,D[key])\n",
    "print(type(D))"
   ]
  },
  {
   "cell_type": "markdown",
   "metadata": {},
   "source": [
    "Find Min and Max"
   ]
  },
  {
   "cell_type": "code",
   "execution_count": 41,
   "metadata": {},
   "outputs": [
    {
     "name": "stdout",
     "output_type": "stream",
     "text": [
      "Min :  -5 Max :  10\n"
     ]
    }
   ],
   "source": [
    "L=[1,4,-5,6,2,3,10,8,-3]\n",
    "min = L[0]\n",
    "max = L[0]\n",
    "for x in L:\n",
    "    if x < min:\n",
    "        min = x\n",
    "    if x > max:\n",
    "        max = x\n",
    "print(\"Min : \",min,\"Max : \",max)"
   ]
  },
  {
   "cell_type": "markdown",
   "metadata": {},
   "source": [
    "Sort"
   ]
  },
  {
   "cell_type": "code",
   "execution_count": 45,
   "metadata": {},
   "outputs": [
    {
     "name": "stdout",
     "output_type": "stream",
     "text": [
      "[-5, -3, 1, 2, 3, 4, 6, 8, 10]\n",
      "[-5, -3, 1, 2, 3, 4, 6, 8, 10]\n",
      "[-5, -3, 1, 2, 3, 4, 6, 8, 10]\n"
     ]
    }
   ],
   "source": [
    "print(L)\n",
    "l=L\n",
    "\n",
    "for i in range(len(L)):\n",
    "    for j in range(i+1,len(L)):\n",
    "        if L[i] > L[j]:\n",
    "            temp = L[i]\n",
    "            L[i] = L[j]\n",
    "            L[j] = temp\n",
    "print(L)\n",
    "l.sort()\n",
    "print(l)"
   ]
  },
  {
   "cell_type": "markdown",
   "metadata": {},
   "source": [
    "#Functions."
   ]
  },
  {
   "cell_type": "code",
   "execution_count": 54,
   "metadata": {},
   "outputs": [
    {
     "name": "stdout",
     "output_type": "stream",
     "text": [
      "Thanks for the call\n",
      "Message : Thanks for the message  HI\n"
     ]
    }
   ],
   "source": [
    "def thanksFunctionCall():\n",
    "    \"\"\"A very gratefull function,Prints thanks message\"\"\"\n",
    "    print(\"Thanks for the call\")\n",
    "\n",
    "\n",
    "thanksFunctionCall()\n",
    "\n",
    "def thanksFunctionCall(msg):\n",
    "    \"\"\"A very gratefull function,Prints thanks message wrt msg\"\"\"\n",
    "    print(\"Message : Thanks for the message \",msg)\n",
    "\n",
    "thanksFunctionCall(\"HI\")\n"
   ]
  },
  {
   "cell_type": "code",
   "execution_count": 55,
   "metadata": {},
   "outputs": [
    {
     "name": "stdout",
     "output_type": "stream",
     "text": [
      "\u001b[1;31mSignature:\u001b[0m \u001b[0mthanksFunctionCall\u001b[0m\u001b[1;33m(\u001b[0m\u001b[0mmsg\u001b[0m\u001b[1;33m)\u001b[0m\u001b[1;33m\u001b[0m\u001b[1;33m\u001b[0m\u001b[0m\n",
      "\u001b[1;31mDocstring:\u001b[0m A very gratefull function,Prints thanks message wrt msg\n",
      "\u001b[1;31mFile:\u001b[0m      c:\\users\\u725905\\appdata\\local\\temp\\ipykernel_4180\\1109225755.py\n",
      "\u001b[1;31mType:\u001b[0m      function\n"
     ]
    }
   ],
   "source": [
    "#thanksFunctionCall?"
   ]
  },
  {
   "cell_type": "code",
   "execution_count": 50,
   "metadata": {},
   "outputs": [
    {
     "name": "stdout",
     "output_type": "stream",
     "text": [
      "\u001b[1;31mSignature:\u001b[0m \u001b[0mthanksFunctionCall\u001b[0m\u001b[1;33m(\u001b[0m\u001b[1;33m)\u001b[0m\u001b[1;33m\u001b[0m\u001b[1;33m\u001b[0m\u001b[0m\n",
      "\u001b[1;31mSource:\u001b[0m   \n",
      "\u001b[1;32mdef\u001b[0m \u001b[0mthanksFunctionCall\u001b[0m\u001b[1;33m(\u001b[0m\u001b[1;33m)\u001b[0m\u001b[1;33m:\u001b[0m\u001b[1;33m\n",
      "\u001b[0m    \u001b[1;34m\"\"\"A very gratefull function,Prints thanks message\"\"\"\u001b[0m\u001b[1;33m\n",
      "\u001b[0m    \u001b[0mprint\u001b[0m\u001b[1;33m(\u001b[0m\u001b[1;34m\"Thanks for the call\"\u001b[0m\u001b[1;33m)\u001b[0m\u001b[1;33m\u001b[0m\u001b[1;33m\u001b[0m\u001b[0m\n",
      "\u001b[1;31mFile:\u001b[0m      c:\\users\\u725905\\appdata\\local\\temp\\ipykernel_4180\\1820968565.py\n",
      "\u001b[1;31mType:\u001b[0m      function\n"
     ]
    }
   ],
   "source": [
    "#thanksFunctionCall??"
   ]
  },
  {
   "cell_type": "code",
   "execution_count": 49,
   "metadata": {},
   "outputs": [
    {
     "name": "stdout",
     "output_type": "stream",
     "text": [
      "Help on function thanksFunctionCall in module __main__:\n",
      "\n",
      "thanksFunctionCall()\n",
      "    A very gratefull function,Prints thanks message\n",
      "\n"
     ]
    }
   ],
   "source": [
    "help(thanksFunctionCall)"
   ]
  },
  {
   "cell_type": "code",
   "execution_count": 56,
   "metadata": {},
   "outputs": [
    {
     "name": "stdout",
     "output_type": "stream",
     "text": [
      "It is certain\n"
     ]
    }
   ],
   "source": [
    "import random\n",
    "def getAnswer(answerNumber):\n",
    "    if answerNumber == 1:\n",
    "        return 'It is certain'\n",
    "    elif answerNumber == 2:\n",
    "        return 'It is decidedly so'\n",
    "    elif answerNumber == 3:\n",
    "        return 'Yes'\n",
    "    elif answerNumber == 4:\n",
    "        return 'Reply hazy try again'\n",
    "    elif answerNumber == 5:\n",
    "        return 'Ask again later'\n",
    "    elif answerNumber == 6:\n",
    "        return 'Concentrate and ask again'\n",
    "    elif answerNumber == 7:\n",
    "        return 'My reply is no'\n",
    "    elif answerNumber == 8:\n",
    "        return 'Outlook not so good'\n",
    "    elif answerNumber == 9:\n",
    "        return 'Very doubtful'\n",
    "\n",
    "r = random.randint(1, 9)\n",
    "fortune = getAnswer(r)\n",
    "print(fortune)"
   ]
  },
  {
   "cell_type": "markdown",
   "metadata": {},
   "source": [
    "#IterTools"
   ]
  },
  {
   "cell_type": "code",
   "execution_count": 57,
   "metadata": {},
   "outputs": [
    {
     "name": "stdout",
     "output_type": "stream",
     "text": [
      "autobot\n",
      "[{'name': 'blaster', 'faction': 'autobot'}]\n",
      "decepticon\n",
      "[{'name': 'galvatron', 'faction': 'decepticon'}]\n",
      "autobot\n",
      "[{'name': 'jazz', 'faction': 'autobot'}, {'name': 'metroplex', 'faction': 'autobot'}]\n",
      "decepticon\n",
      "[{'name': 'megatron', 'faction': 'decepticon'}, {'name': 'starcream', 'faction': 'decepticon'}]\n"
     ]
    }
   ],
   "source": [
    "import itertools\n",
    "robots = [{\n",
    "    'name': 'blaster',\n",
    "    'faction': 'autobot'\n",
    "}, {\n",
    "    'name': 'galvatron',\n",
    "    'faction': 'decepticon'\n",
    "}, {\n",
    "    'name': 'jazz',\n",
    "    'faction': 'autobot'\n",
    "}, {\n",
    "    'name': 'metroplex',\n",
    "    'faction': 'autobot'\n",
    "}, {\n",
    "    'name': 'megatron',\n",
    "    'faction': 'decepticon'\n",
    "}, {\n",
    "    'name': 'starcream',\n",
    "    'faction': 'decepticon'\n",
    "}]\n",
    "\n",
    "for key, group in itertools.groupby(robots, key=lambda x: x['faction']):\n",
    "    print(key)\n",
    "    print(list(group))"
   ]
  },
  {
   "cell_type": "code",
   "execution_count": 16,
   "metadata": {},
   "outputs": [
    {
     "name": "stdout",
     "output_type": "stream",
     "text": [
      "(2, 3)\n",
      "3\n",
      "1\n"
     ]
    },
    {
     "ename": "KeyboardInterrupt",
     "evalue": "",
     "output_type": "error",
     "traceback": [
      "\u001b[1;31m---------------------------------------------------------------------------\u001b[0m",
      "\u001b[1;31mKeyError\u001b[0m                                  Traceback (most recent call last)",
      "File \u001b[1;32m_pydevd_bundle/pydevd_cython.pyx:1697\u001b[0m, in \u001b[0;36m_pydevd_bundle.pydevd_cython.ThreadTracer.__call__\u001b[1;34m()\u001b[0m\n",
      "\u001b[1;31mKeyError\u001b[0m: 'c:\\\\personal\\\\python\\\\helloWorld\\\\.venv\\\\lib\\\\site-packages\\\\numpy\\\\core\\\\_dtype.py'",
      "\nDuring handling of the above exception, another exception occurred:\n",
      "\u001b[1;31mKeyError\u001b[0m                                  Traceback (most recent call last)",
      "File \u001b[1;32mc:\\personal\\python\\helloWorld\\.venv\\lib\\site-packages\\debugpy\\_vendored\\pydevd\\pydevd_file_utils.py:851\u001b[0m, in \u001b[0;36mget_abs_path_real_path_and_base_from_frame\u001b[1;34m(frame, NORM_PATHS_AND_BASE_CONTAINER)\u001b[0m\n\u001b[0;32m    850\u001b[0m \u001b[39mtry\u001b[39;00m:\n\u001b[1;32m--> 851\u001b[0m     \u001b[39mreturn\u001b[39;00m NORM_PATHS_AND_BASE_CONTAINER[frame\u001b[39m.\u001b[39;49mf_code\u001b[39m.\u001b[39;49mco_filename]\n\u001b[0;32m    852\u001b[0m \u001b[39mexcept\u001b[39;00m:\n\u001b[0;32m    853\u001b[0m     \u001b[39m# This one is just internal (so, does not need any kind of client-server translation)\u001b[39;00m\n",
      "\u001b[1;31mKeyError\u001b[0m: 'c:\\\\personal\\\\python\\\\helloWorld\\\\.venv\\\\lib\\\\site-packages\\\\numpy\\\\core\\\\_dtype.py'",
      "\nDuring handling of the above exception, another exception occurred:\n",
      "\u001b[1;31mKeyError\u001b[0m                                  Traceback (most recent call last)",
      "File \u001b[1;32mc:\\personal\\python\\helloWorld\\.venv\\lib\\site-packages\\debugpy\\_vendored\\pydevd\\pydevd_file_utils.py:815\u001b[0m, in \u001b[0;36mget_abs_path_real_path_and_base_from_file\u001b[1;34m(filename, NORM_PATHS_AND_BASE_CONTAINER)\u001b[0m\n\u001b[0;32m    814\u001b[0m \u001b[39mtry\u001b[39;00m:\n\u001b[1;32m--> 815\u001b[0m     \u001b[39mreturn\u001b[39;00m NORM_PATHS_AND_BASE_CONTAINER[filename]\n\u001b[0;32m    816\u001b[0m \u001b[39mexcept\u001b[39;00m:\n",
      "\u001b[1;31mKeyError\u001b[0m: 'c:\\\\personal\\\\python\\\\helloWorld\\\\.venv\\\\lib\\\\site-packages\\\\numpy\\\\core\\\\_dtype.py'",
      "\nDuring handling of the above exception, another exception occurred:\n",
      "\u001b[1;31mKeyError\u001b[0m                                  Traceback (most recent call last)",
      "File \u001b[1;32mc:\\personal\\python\\helloWorld\\.venv\\lib\\site-packages\\debugpy\\_vendored\\pydevd\\pydevd_file_utils.py:380\u001b[0m, in \u001b[0;36m_abs_and_canonical_path\u001b[1;34m(filename, NORM_PATHS_CONTAINER)\u001b[0m\n\u001b[0;32m    379\u001b[0m \u001b[39mtry\u001b[39;00m:\n\u001b[1;32m--> 380\u001b[0m     \u001b[39mreturn\u001b[39;00m NORM_PATHS_CONTAINER[filename]\n\u001b[0;32m    381\u001b[0m \u001b[39mexcept\u001b[39;00m:\n",
      "\u001b[1;31mKeyError\u001b[0m: 'c:\\\\personal\\\\python\\\\helloWorld\\\\.venv\\\\lib\\\\site-packages\\\\numpy\\\\core\\\\_dtype.py'",
      "\nDuring handling of the above exception, another exception occurred:\n",
      "\u001b[1;31mKeyboardInterrupt\u001b[0m                         Traceback (most recent call last)",
      "\u001b[1;32mc:\\personal\\python\\helloWorld\\jupiter_notebook_demo.ipynb Cell 5'\u001b[0m in \u001b[0;36m<cell line: 9>\u001b[1;34m()\u001b[0m\n\u001b[0;32m      <a href='vscode-notebook-cell:/c%3A/personal/python/helloWorld/jupiter_notebook_demo.ipynb#ch0000004?line=5'>6</a>\u001b[0m \u001b[39mprint\u001b[39m(\u001b[39mlen\u001b[39m(a[\u001b[39m0\u001b[39m]))\n\u001b[0;32m      <a href='vscode-notebook-cell:/c%3A/personal/python/helloWorld/jupiter_notebook_demo.ipynb#ch0000004?line=6'>7</a>\u001b[0m \u001b[39mprint\u001b[39m(a[\u001b[39m0\u001b[39m,\u001b[39m0\u001b[39m])\n\u001b[1;32m----> <a href='vscode-notebook-cell:/c%3A/personal/python/helloWorld/jupiter_notebook_demo.ipynb#ch0000004?line=8'>9</a>\u001b[0m \u001b[39mprint\u001b[39;49m(a\u001b[39m.\u001b[39;49mdtype)\n\u001b[0;32m     <a href='vscode-notebook-cell:/c%3A/personal/python/helloWorld/jupiter_notebook_demo.ipynb#ch0000004?line=9'>10</a>\u001b[0m \u001b[39mprint\u001b[39m(a\u001b[39m.\u001b[39mndim)\n",
      "File \u001b[1;32mc:\\personal\\python\\helloWorld\\.venv\\lib\\site-packages\\numpy\\core\\_dtype.py:34\u001b[0m, in \u001b[0;36m__str__\u001b[1;34m(dtype)\u001b[0m\n\u001b[0;32m     27\u001b[0m     \u001b[39mexcept\u001b[39;00m \u001b[39mKeyError\u001b[39;00m \u001b[39mas\u001b[39;00m e:\n\u001b[0;32m     28\u001b[0m         \u001b[39mraise\u001b[39;00m \u001b[39mRuntimeError\u001b[39;00m(\n\u001b[0;32m     29\u001b[0m             \u001b[39m\"\u001b[39m\u001b[39minternal dtype error, unknown kind \u001b[39m\u001b[39m{!r}\u001b[39;00m\u001b[39m\"\u001b[39m\n\u001b[0;32m     30\u001b[0m             \u001b[39m.\u001b[39mformat(dtype\u001b[39m.\u001b[39mkind)\n\u001b[0;32m     31\u001b[0m         ) \u001b[39mfrom\u001b[39;00m \u001b[39mNone\u001b[39m\n\u001b[1;32m---> 34\u001b[0m \u001b[39mdef\u001b[39;00m \u001b[39m__str__\u001b[39m(dtype):\n\u001b[0;32m     35\u001b[0m     \u001b[39mif\u001b[39;00m dtype\u001b[39m.\u001b[39mfields \u001b[39mis\u001b[39;00m \u001b[39mnot\u001b[39;00m \u001b[39mNone\u001b[39;00m:\n\u001b[0;32m     36\u001b[0m         \u001b[39mreturn\u001b[39;00m _struct_str(dtype, include_align\u001b[39m=\u001b[39m\u001b[39mTrue\u001b[39;00m)\n",
      "File \u001b[1;32m_pydevd_bundle/pydevd_cython.pyx:1366\u001b[0m, in \u001b[0;36m_pydevd_bundle.pydevd_cython.SafeCallWrapper.__call__\u001b[1;34m()\u001b[0m\n",
      "File \u001b[1;32m_pydevd_bundle/pydevd_cython.pyx:1699\u001b[0m, in \u001b[0;36m_pydevd_bundle.pydevd_cython.ThreadTracer.__call__\u001b[1;34m()\u001b[0m\n",
      "File \u001b[1;32mc:\\personal\\python\\helloWorld\\.venv\\lib\\site-packages\\debugpy\\_vendored\\pydevd\\pydevd_file_utils.py:869\u001b[0m, in \u001b[0;36mget_abs_path_real_path_and_base_from_frame\u001b[1;34m(frame, NORM_PATHS_AND_BASE_CONTAINER)\u001b[0m\n\u001b[0;32m    866\u001b[0m     i \u001b[39m=\u001b[39m \u001b[39mmax\u001b[39m(f\u001b[39m.\u001b[39mrfind(\u001b[39m'\u001b[39m\u001b[39m/\u001b[39m\u001b[39m'\u001b[39m), f\u001b[39m.\u001b[39mrfind(\u001b[39m'\u001b[39m\u001b[39m\\\\\u001b[39;00m\u001b[39m'\u001b[39m))\n\u001b[0;32m    867\u001b[0m     \u001b[39mreturn\u001b[39;00m f, f, f[i \u001b[39m+\u001b[39m \u001b[39m1\u001b[39m:]\n\u001b[1;32m--> 869\u001b[0m ret \u001b[39m=\u001b[39m get_abs_path_real_path_and_base_from_file(f)\n\u001b[0;32m    870\u001b[0m \u001b[39m# Also cache based on the frame.f_code.co_filename (if we had it inside build/bdist it can make a difference).\u001b[39;00m\n\u001b[0;32m    871\u001b[0m NORM_PATHS_AND_BASE_CONTAINER[frame\u001b[39m.\u001b[39mf_code\u001b[39m.\u001b[39mco_filename] \u001b[39m=\u001b[39m ret\n",
      "File \u001b[1;32mc:\\personal\\python\\helloWorld\\.venv\\lib\\site-packages\\debugpy\\_vendored\\pydevd\\pydevd_file_utils.py:836\u001b[0m, in \u001b[0;36mget_abs_path_real_path_and_base_from_file\u001b[1;34m(filename, NORM_PATHS_AND_BASE_CONTAINER)\u001b[0m\n\u001b[0;32m    833\u001b[0m     \u001b[39melif\u001b[39;00m f\u001b[39m.\u001b[39mendswith(\u001b[39m'\u001b[39m\u001b[39m$py.class\u001b[39m\u001b[39m'\u001b[39m):\n\u001b[0;32m    834\u001b[0m         f \u001b[39m=\u001b[39m f[:\u001b[39m-\u001b[39m\u001b[39mlen\u001b[39m(\u001b[39m'\u001b[39m\u001b[39m$py.class\u001b[39m\u001b[39m'\u001b[39m)] \u001b[39m+\u001b[39m \u001b[39m'\u001b[39m\u001b[39m.py\u001b[39m\u001b[39m'\u001b[39m\n\u001b[1;32m--> 836\u001b[0m abs_path, canonical_normalized_filename \u001b[39m=\u001b[39m _abs_and_canonical_path(f)\n\u001b[0;32m    838\u001b[0m \u001b[39mtry\u001b[39;00m:\n\u001b[0;32m    839\u001b[0m     base \u001b[39m=\u001b[39m os_path_basename(canonical_normalized_filename)\n",
      "File \u001b[1;32mc:\\personal\\python\\helloWorld\\.venv\\lib\\site-packages\\debugpy\\_vendored\\pydevd\\pydevd_file_utils.py:403\u001b[0m, in \u001b[0;36m_abs_and_canonical_path\u001b[1;34m(filename, NORM_PATHS_CONTAINER)\u001b[0m\n\u001b[0;32m    400\u001b[0m abs_path \u001b[39m=\u001b[39m _apply_func_and_normalize_case(filename, os_path_abspath, isabs, normalize)\n\u001b[0;32m    402\u001b[0m normalize \u001b[39m=\u001b[39m \u001b[39mTrue\u001b[39;00m\n\u001b[1;32m--> 403\u001b[0m real_path \u001b[39m=\u001b[39m _apply_func_and_normalize_case(filename, os_path_real_path, isabs, normalize)\n\u001b[0;32m    405\u001b[0m \u001b[39m# cache it for fast access later\u001b[39;00m\n\u001b[0;32m    406\u001b[0m NORM_PATHS_CONTAINER[filename] \u001b[39m=\u001b[39m abs_path, real_path\n",
      "File \u001b[1;32mc:\\personal\\python\\helloWorld\\.venv\\lib\\site-packages\\debugpy\\_vendored\\pydevd\\pydevd_file_utils.py:430\u001b[0m, in \u001b[0;36m_apply_func_and_normalize_case\u001b[1;34m(filename, func, isabs, normalize_case, os_path_exists, join)\u001b[0m\n\u001b[0;32m    425\u001b[0m \u001b[39mif\u001b[39;00m filename\u001b[39m.\u001b[39mstartswith(\u001b[39m'\u001b[39m\u001b[39m<\u001b[39m\u001b[39m'\u001b[39m):\n\u001b[0;32m    426\u001b[0m     \u001b[39m# Not really a file, rather a synthetic name like <string> or <ipython-...>;\u001b[39;00m\n\u001b[0;32m    427\u001b[0m     \u001b[39m# shouldn't be normalized.\u001b[39;00m\n\u001b[0;32m    428\u001b[0m     \u001b[39mreturn\u001b[39;00m filename\n\u001b[1;32m--> 430\u001b[0m r \u001b[39m=\u001b[39m func(filename)\n\u001b[0;32m    432\u001b[0m \u001b[39mif\u001b[39;00m \u001b[39mnot\u001b[39;00m isabs:\n\u001b[0;32m    433\u001b[0m     \u001b[39mif\u001b[39;00m \u001b[39mnot\u001b[39;00m os_path_exists(r):\n",
      "File \u001b[1;32m~\\AppData\\Local\\Programs\\Python\\Python310\\lib\\ntpath.py:660\u001b[0m, in \u001b[0;36mrealpath\u001b[1;34m(path, strict)\u001b[0m\n\u001b[0;32m    658\u001b[0m     path \u001b[39m=\u001b[39m join(cwd, path)\n\u001b[0;32m    659\u001b[0m \u001b[39mtry\u001b[39;00m:\n\u001b[1;32m--> 660\u001b[0m     path \u001b[39m=\u001b[39m _getfinalpathname(path)\n\u001b[0;32m    661\u001b[0m     initial_winerror \u001b[39m=\u001b[39m \u001b[39m0\u001b[39m\n\u001b[0;32m    662\u001b[0m \u001b[39mexcept\u001b[39;00m \u001b[39mOSError\u001b[39;00m \u001b[39mas\u001b[39;00m ex:\n",
      "\u001b[1;31mKeyboardInterrupt\u001b[0m: "
     ]
    }
   ],
   "source": [
    "import numpy as np\n",
    "\n",
    "a = np.array([[1,2,3],[3,4,0]])#\n",
    "\n",
    "print(a.shape)\n",
    "print(len(a[0]))\n",
    "print(a[0,0])\n",
    "\n",
    "print(a.dtype)\n",
    "print(a.ndim)\n",
    "\n",
    "\n"
   ]
  },
  {
   "cell_type": "code",
   "execution_count": 15,
   "metadata": {},
   "outputs": [
    {
     "name": "stdout",
     "output_type": "stream",
     "text": [
      "[0 1 2 3 4 5 6 7 8 9]\n",
      "[2 3 4 5 6 7 8 9]\n",
      "[2 4 6 8]\n"
     ]
    }
   ],
   "source": [
    "A = np.arange(10)\n",
    "print(A)\n",
    "\n",
    "A = np.arange(2,10)\n",
    "print(A)\n",
    "\n",
    "A = np.arange(2,10,2)\n",
    "print(A)"
   ]
  },
  {
   "cell_type": "markdown",
   "metadata": {},
   "source": [
    "Random Permutation"
   ]
  },
  {
   "cell_type": "code",
   "execution_count": 18,
   "metadata": {},
   "outputs": [
    {
     "name": "stdout",
     "output_type": "stream",
     "text": [
      "[6 0 5 4 7 8 3 2 1 9]\n",
      "11\n"
     ]
    }
   ],
   "source": [
    "A = np.random.permutation(np.arange(10))\n",
    "print(A)\n",
    "\n",
    "print(np.random.randint(10,20))"
   ]
  },
  {
   "cell_type": "code",
   "execution_count": 20,
   "metadata": {},
   "outputs": [
    {
     "name": "stdout",
     "output_type": "stream",
     "text": [
      "[0.82478146 0.92259908 0.00634081 0.98535291 0.9144502  0.96446709\n",
      " 0.84258633 0.10368434 0.53235103 0.91339148 0.21427158 0.46918644\n",
      " 0.48050629 0.46570986 0.86394464 0.32999317 0.98433122 0.68252546\n",
      " 0.02486226 0.33784615 0.922081   0.43517997 0.14409855 0.30617685\n",
      " 0.80039802 0.19711672 0.34134082 0.12466368 0.64688879 0.77276029\n",
      " 0.05185814 0.21749948 0.58031115 0.71340606 0.98080418 0.37674703\n",
      " 0.59546331 0.41430464 0.76437656 0.44636601 0.64375001 0.35168125\n",
      " 0.9212787  0.04773376 0.94747401 0.23503494 0.70533572 0.86702641\n",
      " 0.15742087 0.678518   0.76881948 0.95879944 0.95893483 0.36205287\n",
      " 0.10396912 0.71361913 0.53910074 0.62025215 0.66382736 0.19705997\n",
      " 0.62643065 0.23903542 0.80642849 0.36612498 0.99037845 0.19122073\n",
      " 0.92407297 0.13357973 0.39349717 0.10696325 0.05920026 0.29712522\n",
      " 0.86370477 0.39381035 0.84587283 0.36796473 0.15312709 0.24545095\n",
      " 0.33093946 0.7758214  0.59955194 0.82997082 0.75618775 0.72784807\n",
      " 0.93225418 0.22658529 0.72191916 0.67925686 0.37134208 0.25025631\n",
      " 0.17995144 0.91784749 0.61097874 0.18897079 0.81635441 0.68736437\n",
      " 0.70280005 0.51878085 0.8890848  0.68708027]\n"
     ]
    }
   ],
   "source": [
    "A = np.random.rand(100)\n",
    "print(A)"
   ]
  },
  {
   "cell_type": "markdown",
   "metadata": {},
   "source": [
    "Import matplotlib"
   ]
  },
  {
   "cell_type": "code",
   "execution_count": 21,
   "metadata": {},
   "outputs": [],
   "source": [
    "import matplotlib.pyplot as plt"
   ]
  },
  {
   "cell_type": "code",
   "execution_count": 29,
   "metadata": {},
   "outputs": [
    {
     "data": {
      "text/plain": [
       "(array([ 8.,  5.,  5., 15., 11., 11., 11., 12., 12., 10.]),\n",
       " array([0.01159761, 0.10979544, 0.20799326, 0.30619109, 0.40438892,\n",
       "        0.50258674, 0.60078457, 0.6989824 , 0.79718022, 0.89537805,\n",
       "        0.99357587]),\n",
       " <BarContainer object of 10 artists>)"
      ]
     },
     "execution_count": 29,
     "metadata": {},
     "output_type": "execute_result"
    },
    {
     "data": {
      "image/png": "[encoded data removed]",
      "text/plain": [
       "<Figure size 432x288 with 1 Axes>"
      ]
     },
     "metadata": {
      "needs_background": "light"
     },
     "output_type": "display_data"
    }
   ],
   "source": [
    "A = np.random.rand(100)\n",
    "\n",
    "plt.hist(A)"
   ]
  },
  {
   "cell_type": "code",
   "execution_count": 33,
   "metadata": {},
   "outputs": [
    {
     "data": {
      "text/plain": [
       "(array([  1.,   0.,   0.,   1.,   0.,   0.,   1.,   1.,   1.,   0.,   0.,\n",
       "          0.,   1.,   0.,   1.,   2.,   2.,   2.,   0.,   2.,   1.,   3.,\n",
       "          0.,   2.,   1.,   4.,   3.,   1.,   6.,   3.,   3.,   5.,   2.,\n",
       "          5.,   6.,   8.,  14.,   9.,  10.,  14.,  14.,  15.,  14.,  12.,\n",
       "         15.,  16.,  25.,  23.,  22.,  20.,  24.,  28.,  23.,  26.,  41.,\n",
       "         42.,  34.,  41.,  38.,  41.,  59.,  42.,  60.,  45.,  68.,  65.,\n",
       "         86.,  84.,  78.,  80.,  84.,  76.,  83.,  94., 101., 100.,  91.,\n",
       "        106., 114., 113., 114., 131., 139., 114., 127., 139., 160., 143.,\n",
       "        154., 137., 160., 179., 141., 141., 127., 113., 154., 140., 155.,\n",
       "        148., 150., 160., 139., 132., 136., 165., 136., 160., 133., 138.,\n",
       "        143., 131., 123., 119., 123., 109., 132., 109., 113., 118., 113.,\n",
       "        108., 124.,  98.,  88.,  97.,  93., 101.,  95.,  86.,  84.,  76.,\n",
       "         65.,  78.,  64.,  67.,  55.,  53.,  60.,  49.,  48.,  47.,  39.,\n",
       "         27.,  31.,  33.,  30.,  25.,  17.,  20.,  26.,  28.,  17.,  19.,\n",
       "         12.,  18.,  17.,  12.,  17.,  13.,  13.,   9.,   6.,   7.,  11.,\n",
       "          4.,   1.,   6.,   2.,   4.,   1.,   7.,   4.,   5.,   1.,   1.,\n",
       "          2.,   4.,   3.,   5.,   2.,   1.,   0.,   1.,   1.,   0.,   1.,\n",
       "          0.,   0.,   0.,   0.,   1.,   1.,   0.,   2.,   0.,   0.,   0.,\n",
       "          0.,   1.]),\n",
       " array([-3.79511047e+00, -3.75713160e+00, -3.71915273e+00, -3.68117386e+00,\n",
       "        -3.64319499e+00, -3.60521612e+00, -3.56723725e+00, -3.52925839e+00,\n",
       "        -3.49127952e+00, -3.45330065e+00, -3.41532178e+00, -3.37734291e+00,\n",
       "        -3.33936404e+00, -3.30138517e+00, -3.26340630e+00, -3.22542743e+00,\n",
       "        -3.18744856e+00, -3.14946969e+00, -3.11149082e+00, -3.07351195e+00,\n",
       "        -3.03553308e+00, -2.99755421e+00, -2.95957534e+00, -2.92159647e+00,\n",
       "        -2.88361760e+00, -2.84563873e+00, -2.80765986e+00, -2.76968099e+00,\n",
       "        -2.73170212e+00, -2.69372325e+00, -2.65574438e+00, -2.61776551e+00,\n",
       "        -2.57978664e+00, -2.54180777e+00, -2.50382890e+00, -2.46585003e+00,\n",
       "        -2.42787116e+00, -2.38989229e+00, -2.35191342e+00, -2.31393455e+00,\n",
       "        -2.27595568e+00, -2.23797681e+00, -2.19999795e+00, -2.16201908e+00,\n",
       "        -2.12404021e+00, -2.08606134e+00, -2.04808247e+00, -2.01010360e+00,\n",
       "        -1.97212473e+00, -1.93414586e+00, -1.89616699e+00, -1.85818812e+00,\n",
       "        -1.82020925e+00, -1.78223038e+00, -1.74425151e+00, -1.70627264e+00,\n",
       "        -1.66829377e+00, -1.63031490e+00, -1.59233603e+00, -1.55435716e+00,\n",
       "        -1.51637829e+00, -1.47839942e+00, -1.44042055e+00, -1.40244168e+00,\n",
       "        -1.36446281e+00, -1.32648394e+00, -1.28850507e+00, -1.25052620e+00,\n",
       "        -1.21254733e+00, -1.17456846e+00, -1.13658959e+00, -1.09861072e+00,\n",
       "        -1.06063185e+00, -1.02265298e+00, -9.84674114e-01, -9.46695244e-01,\n",
       "        -9.08716375e-01, -8.70737505e-01, -8.32758635e-01, -7.94779765e-01,\n",
       "        -7.56800896e-01, -7.18822026e-01, -6.80843156e-01, -6.42864287e-01,\n",
       "        -6.04885417e-01, -5.66906547e-01, -5.28927677e-01, -4.90948808e-01,\n",
       "        -4.52969938e-01, -4.14991068e-01, -3.77012199e-01, -3.39033329e-01,\n",
       "        -3.01054459e-01, -2.63075589e-01, -2.25096720e-01, -1.87117850e-01,\n",
       "        -1.49138980e-01, -1.11160111e-01, -7.31812408e-02, -3.52023711e-02,\n",
       "         2.77649861e-03,  4.07553683e-02,  7.87342380e-02,  1.16713108e-01,\n",
       "         1.54691977e-01,  1.92670847e-01,  2.30649717e-01,  2.68628587e-01,\n",
       "         3.06607456e-01,  3.44586326e-01,  3.82565196e-01,  4.20544066e-01,\n",
       "         4.58522935e-01,  4.96501805e-01,  5.34480675e-01,  5.72459544e-01,\n",
       "         6.10438414e-01,  6.48417284e-01,  6.86396154e-01,  7.24375023e-01,\n",
       "         7.62353893e-01,  8.00332763e-01,  8.38311632e-01,  8.76290502e-01,\n",
       "         9.14269372e-01,  9.52248242e-01,  9.90227111e-01,  1.02820598e+00,\n",
       "         1.06618485e+00,  1.10416372e+00,  1.14214259e+00,  1.18012146e+00,\n",
       "         1.21810033e+00,  1.25607920e+00,  1.29405807e+00,  1.33203694e+00,\n",
       "         1.37001581e+00,  1.40799468e+00,  1.44597355e+00,  1.48395242e+00,\n",
       "         1.52193129e+00,  1.55991016e+00,  1.59788903e+00,  1.63586790e+00,\n",
       "         1.67384677e+00,  1.71182564e+00,  1.74980451e+00,  1.78778338e+00,\n",
       "         1.82576225e+00,  1.86374111e+00,  1.90171998e+00,  1.93969885e+00,\n",
       "         1.97767772e+00,  2.01565659e+00,  2.05363546e+00,  2.09161433e+00,\n",
       "         2.12959320e+00,  2.16757207e+00,  2.20555094e+00,  2.24352981e+00,\n",
       "         2.28150868e+00,  2.31948755e+00,  2.35746642e+00,  2.39544529e+00,\n",
       "         2.43342416e+00,  2.47140303e+00,  2.50938190e+00,  2.54736077e+00,\n",
       "         2.58533964e+00,  2.62331851e+00,  2.66129738e+00,  2.69927625e+00,\n",
       "         2.73725512e+00,  2.77523399e+00,  2.81321286e+00,  2.85119173e+00,\n",
       "         2.88917060e+00,  2.92714947e+00,  2.96512834e+00,  3.00310721e+00,\n",
       "         3.04108608e+00,  3.07906495e+00,  3.11704382e+00,  3.15502269e+00,\n",
       "         3.19300155e+00,  3.23098042e+00,  3.26895929e+00,  3.30693816e+00,\n",
       "         3.34491703e+00,  3.38289590e+00,  3.42087477e+00,  3.45885364e+00,\n",
       "         3.49683251e+00,  3.53481138e+00,  3.57279025e+00,  3.61076912e+00,\n",
       "         3.64874799e+00,  3.68672686e+00,  3.72470573e+00,  3.76268460e+00,\n",
       "         3.80066347e+00]),\n",
       " <BarContainer object of 200 artists>)"
      ]
     },
     "execution_count": 33,
     "metadata": {},
     "output_type": "execute_result"
    },
    {
     "data": {
      "image/png": "[encoded data removed]",
      "text/plain": [
       "<Figure size 432x288 with 1 Axes>"
      ]
     },
     "metadata": {
      "needs_background": "light"
     },
     "output_type": "display_data"
    }
   ],
   "source": [
    "A = np.random.randn(10000)\n",
    "plt.hist(A,bins=200)\n"
   ]
  },
  {
   "cell_type": "code",
   "execution_count": 37,
   "metadata": {},
   "outputs": [
    {
     "name": "stdout",
     "output_type": "stream",
     "text": [
      "[[ 0  1  2  3  4  5  6  7  8  9]\n",
      " [10 11 12 13 14 15 16 17 18 19]\n",
      " [20 21 22 23 24 25 26 27 28 29]\n",
      " [30 31 32 33 34 35 36 37 38 39]\n",
      " [40 41 42 43 44 45 46 47 48 49]\n",
      " [50 51 52 53 54 55 56 57 58 59]\n",
      " [60 61 62 63 64 65 66 67 68 69]\n",
      " [70 71 72 73 74 75 76 77 78 79]\n",
      " [80 81 82 83 84 85 86 87 88 89]\n",
      " [90 91 92 93 94 95 96 97 98 99]]\n",
      "(10, 10)\n"
     ]
    },
    {
     "name": "stdout",
     "output_type": "stream",
     "text": [
      "\u001b[1;31mDocstring:\u001b[0m\n",
      "zeros(shape, dtype=float, order='C', *, like=None)\n",
      "\n",
      "Return a new array of given shape and type, filled with zeros.\n",
      "\n",
      "Parameters\n",
      "----------\n",
      "shape : int or tuple of ints\n",
      "    Shape of the new array, e.g., ``(2, 3)`` or ``2``.\n",
      "dtype : data-type, optional\n",
      "    The desired data-type for the array, e.g., `numpy.int8`.  Default is\n",
      "    `numpy.float64`.\n",
      "order : {'C', 'F'}, optional, default: 'C'\n",
      "    Whether to store multi-dimensional data in row-major\n",
      "    (C-style) or column-major (Fortran-style) order in\n",
      "    memory.\n",
      "like : array_like\n",
      "    Reference object to allow the creation of arrays which are not\n",
      "    NumPy arrays. If an array-like passed in as ``like`` supports\n",
      "    the ``__array_function__`` protocol, the result will be defined\n",
      "    by it. In this case, it ensures the creation of an array object\n",
      "    compatible with that passed in via this argument.\n",
      "\n",
      "    .. versionadded:: 1.20.0\n",
      "\n",
      "Returns\n",
      "-------\n",
      "out : ndarray\n",
      "    Array of zeros with the given shape, dtype, and order.\n",
      "\n",
      "See Also\n",
      "--------\n",
      "zeros_like : Return an array of zeros with shape and type of input.\n",
      "empty : Return a new uninitialized array.\n",
      "ones : Return a new array setting values to one.\n",
      "full : Return a new array of given shape filled with value.\n",
      "\n",
      "Examples\n",
      "--------\n",
      ">>> np.zeros(5)\n",
      "array([ 0.,  0.,  0.,  0.,  0.])\n",
      "\n",
      ">>> np.zeros((5,), dtype=int)\n",
      "array([0, 0, 0, 0, 0])\n",
      "\n",
      ">>> np.zeros((2, 1))\n",
      "array([[ 0.],\n",
      "       [ 0.]])\n",
      "\n",
      ">>> s = (2,2)\n",
      ">>> np.zeros(s)\n",
      "array([[ 0.,  0.],\n",
      "       [ 0.,  0.]])\n",
      "\n",
      ">>> np.zeros((2,), dtype=[('x', 'i4'), ('y', 'i4')]) # custom dtype\n",
      "array([(0, 0), (0, 0)],\n",
      "      dtype=[('x', '<i4'), ('y', '<i4')])\n",
      "\u001b[1;31mType:\u001b[0m      builtin_function_or_method\n"
     ]
    }
   ],
   "source": [
    "A = np.arange(100).reshape(10,10)\n",
    "print(A)\n",
    "\n",
    "print(A.shape)\n"
   ]
  },
  {
   "cell_type": "code",
   "execution_count": 40,
   "metadata": {},
   "outputs": [
    {
     "name": "stdout",
     "output_type": "stream",
     "text": [
      "\u001b[1;31mSignature:\u001b[0m \u001b[0mnp\u001b[0m\u001b[1;33m.\u001b[0m\u001b[0mones\u001b[0m\u001b[1;33m(\u001b[0m\u001b[0mshape\u001b[0m\u001b[1;33m,\u001b[0m \u001b[0mdtype\u001b[0m\u001b[1;33m=\u001b[0m\u001b[1;32mNone\u001b[0m\u001b[1;33m,\u001b[0m \u001b[0morder\u001b[0m\u001b[1;33m=\u001b[0m\u001b[1;34m'C'\u001b[0m\u001b[1;33m,\u001b[0m \u001b[1;33m*\u001b[0m\u001b[1;33m,\u001b[0m \u001b[0mlike\u001b[0m\u001b[1;33m=\u001b[0m\u001b[1;32mNone\u001b[0m\u001b[1;33m)\u001b[0m\u001b[1;33m\u001b[0m\u001b[1;33m\u001b[0m\u001b[0m\n",
      "\u001b[1;31mDocstring:\u001b[0m\n",
      "Return a new array of given shape and type, filled with ones.\n",
      "\n",
      "Parameters\n",
      "----------\n",
      "shape : int or sequence of ints\n",
      "    Shape of the new array, e.g., ``(2, 3)`` or ``2``.\n",
      "dtype : data-type, optional\n",
      "    The desired data-type for the array, e.g., `numpy.int8`.  Default is\n",
      "    `numpy.float64`.\n",
      "order : {'C', 'F'}, optional, default: C\n",
      "    Whether to store multi-dimensional data in row-major\n",
      "    (C-style) or column-major (Fortran-style) order in\n",
      "    memory.\n",
      "like : array_like\n",
      "    Reference object to allow the creation of arrays which are not\n",
      "    NumPy arrays. If an array-like passed in as ``like`` supports\n",
      "    the ``__array_function__`` protocol, the result will be defined\n",
      "    by it. In this case, it ensures the creation of an array object\n",
      "    compatible with that passed in via this argument.\n",
      "\n",
      "    .. versionadded:: 1.20.0\n",
      "\n",
      "Returns\n",
      "-------\n",
      "out : ndarray\n",
      "    Array of ones with the given shape, dtype, and order.\n",
      "\n",
      "See Also\n",
      "--------\n",
      "ones_like : Return an array of ones with shape and type of input.\n",
      "empty : Return a new uninitialized array.\n",
      "zeros : Return a new array setting values to zero.\n",
      "full : Return a new array of given shape filled with value.\n",
      "\n",
      "\n",
      "Examples\n",
      "--------\n",
      ">>> np.ones(5)\n",
      "array([1., 1., 1., 1., 1.])\n",
      "\n",
      ">>> np.ones((5,), dtype=int)\n",
      "array([1, 1, 1, 1, 1])\n",
      "\n",
      ">>> np.ones((2, 1))\n",
      "array([[1.],\n",
      "       [1.]])\n",
      "\n",
      ">>> s = (2,2)\n",
      ">>> np.ones(s)\n",
      "array([[1.,  1.],\n",
      "       [1.,  1.]])\n",
      "\u001b[1;31mFile:\u001b[0m      c:\\personal\\python\\helloworld\\.venv\\lib\\site-packages\\numpy\\core\\numeric.py\n",
      "\u001b[1;31mType:\u001b[0m      function\n"
     ]
    }
   ],
   "source": [
    "#np.zeros?\n",
    "\n",
    "#np.ones?"
   ]
  },
  {
   "cell_type": "markdown",
   "metadata": {},
   "source": [
    "Numpy Slicing"
   ]
  },
  {
   "cell_type": "code",
   "execution_count": 41,
   "metadata": {},
   "outputs": [
    {
     "name": "stdout",
     "output_type": "stream",
     "text": [
      "[0 1 2 3 4 5 6 7 8 9]\n",
      "[2 3 4 5 6 7]\n",
      "[ 0  1 99  3  4  5  6  7  8  9]\n",
      "[99  3  4  5  6  7]\n"
     ]
    }
   ],
   "source": [
    "A = np.arange(10)\n",
    "print(A)\n",
    "B= A[2:8]\n",
    "print(B)\n",
    "B[0] =99\n",
    "print(A)\n",
    "print(B)\n",
    "\n"
   ]
  },
  {
   "cell_type": "markdown",
   "metadata": {},
   "source": [
    "#Pandas"
   ]
  },
  {
   "cell_type": "code",
   "execution_count": 1,
   "metadata": {},
   "outputs": [],
   "source": [
    "import pandas as pd"
   ]
  },
  {
   "cell_type": "code",
   "execution_count": 2,
   "metadata": {},
   "outputs": [
    {
     "name": "stdout",
     "output_type": "stream",
     "text": [
      "1.4.2\n"
     ]
    }
   ],
   "source": [
    "print(pd.__version__)"
   ]
  },
  {
   "cell_type": "code",
   "execution_count": 3,
   "metadata": {},
   "outputs": [
    {
     "name": "stdout",
     "output_type": "stream",
     "text": [
      "[1 2 5 4]\n"
     ]
    }
   ],
   "source": [
    "A= pd.Series([1,2,5,4],index=['a','b','c','d'])\n",
    "\n",
    "print(A.values)"
   ]
  },
  {
   "cell_type": "code",
   "execution_count": 5,
   "metadata": {},
   "outputs": [
    {
     "name": "stdout",
     "output_type": "stream",
     "text": [
      "<class 'numpy.ndarray'>\n"
     ]
    }
   ],
   "source": [
    "print(type(A.values))"
   ]
  },
  {
   "cell_type": "code",
   "execution_count": 6,
   "metadata": {},
   "outputs": [
    {
     "data": {
      "text/plain": [
       "Index(['a', 'b', 'c', 'd'], dtype='object')"
      ]
     },
     "execution_count": 6,
     "metadata": {},
     "output_type": "execute_result"
    }
   ],
   "source": [
    "A.index"
   ]
  },
  {
   "cell_type": "code",
   "execution_count": 7,
   "metadata": {},
   "outputs": [
    {
     "data": {
      "text/plain": [
       "1"
      ]
     },
     "execution_count": 7,
     "metadata": {},
     "output_type": "execute_result"
    }
   ],
   "source": [
    "A['a']"
   ]
  },
  {
   "cell_type": "code",
   "execution_count": 8,
   "metadata": {},
   "outputs": [
    {
     "data": {
      "text/plain": [
       "a    1\n",
       "b    2\n",
       "c    5\n",
       "dtype: int64"
      ]
     },
     "execution_count": 8,
     "metadata": {},
     "output_type": "execute_result"
    }
   ],
   "source": [
    "A['a':'c']"
   ]
  }
 ],
 "metadata": {
  "kernelspec": {
   "display_name": "Python 3.10.5 ('.venv': venv)",
   "language": "python",
   "name": "python3"
  },
  "language_info": {
   "codemirror_mode": {
    "name": "ipython",
    "version": 3
   },
   "file_extension": ".py",
   "mimetype": "text/x-python",
   "name": "python",
   "nbconvert_exporter": "python",
   "pygments_lexer": "ipython3",
   "version": "3.10.5"
  },
  "orig_nbformat": 4,
  "vscode": {
   "interpreter": {
    "hash": "51e6745c33e2d4e3472d6b94b05f564f556166ca7276cd2b3bb5cddc95ef4000"
   }
  }
 },
 "nbformat": 4,
 "nbformat_minor": 2
}
